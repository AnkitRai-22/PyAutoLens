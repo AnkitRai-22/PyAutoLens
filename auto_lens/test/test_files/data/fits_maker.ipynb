{
 "cells": [
  {
   "cell_type": "code",
   "execution_count": 5,
   "metadata": {
    "collapsed": true
   },
   "outputs": [
    {
     "name": "stdout",
     "output_type": "stream",
     "text": [
      "[[ 1.  1.  1.]\n [ 1.  1.  1.]\n [ 1.  1.  1.]\n [ 1.  1.  1.]]\n"
     ]
    }
   ],
   "source": [
    "import numpy as np\n",
    "from astropy.io import fits\n",
    "\n",
    "image = np.ones((4,3))\n",
    "\n",
    "print(image)\n",
    "\n",
    "fits.writeto(data=image, filename='test_Data/4x3_ones.fits')\n"
   ]
  },
  {
   "cell_type": "code",
   "execution_count": 8,
   "metadata": {},
   "outputs": [
    {
     "ename": "SyntaxError",
     "evalue": "invalid syntax (ImageTools.py, line 19)",
     "traceback": [
      "Traceback \u001b[0;36m(most recent call last)\u001b[0m:\n",
      "  File \u001b[1;32m\"/home/jammy/PycharmProjects/AutoLensEnv/lib/python3.5/site-packages/IPython/core/interactiveshell.py\"\u001b[0m, line \u001b[1;32m2910\u001b[0m, in \u001b[1;35mrun_code\u001b[0m\n    exec(code_obj, self.user_global_ns, self.user_ns)\n",
      "\u001b[0;36m  File \u001b[0;32m\"<ipython-input-8-351b686667f0>\"\u001b[0;36m, line \u001b[0;32m1\u001b[0;36m, in \u001b[0;35m<module>\u001b[0;36m\u001b[0m\n\u001b[0;31m    from LensData.ImageTools import *\u001b[0m\n",
      "\u001b[0;36m  File \u001b[0;32m\"/home/jammy/PycharmProjects/AutoLens/LensData/ImageTools.py\"\u001b[0;36m, line \u001b[0;32m19\u001b[0m\n\u001b[0;31m    if fitsopen()\u001b[0m\n\u001b[0m                 ^\u001b[0m\n\u001b[0;31mSyntaxError\u001b[0m\u001b[0;31m:\u001b[0m invalid syntax\n"
     ],
     "output_type": "error"
    }
   ],
   "source": [
    "from LensData.ImageTools import *\n",
    "\n",
    "dir = '/home/jammy/PycharmProjects/AutoLens/Input_Data/'\n",
    "\n",
    "load_fits(dir+'slacs_3_post.fits', hdu=1)"
   ]
  },
  {
   "cell_type": "code",
   "execution_count": 22,
   "metadata": {},
   "outputs": [
    {
     "name": "stdout",
     "output_type": "stream",
     "text": [
      "[[   1.    2.    3.]\n [   4.  100.    5.]\n [   6.  100.    7.]\n [   8.    9.   10.]]\n"
     ]
    }
   ],
   "source": [
    "import numpy as np\n",
    "\n",
    "image = np.zeros((4,3))\n",
    "\n",
    "image[0, 0] = 1 \n",
    "image[0, 1] = 2\n",
    "image[0, 2] = 3\n",
    "image[1, 0] = 4\n",
    "image[1, 1] = 100 # Not on edge\n",
    "image[1, 2] = 5\n",
    "image[2, 0] = 6\n",
    "image[2, 1] = 100 # Not on edge\n",
    "image[2, 2] = 7\n",
    "image[3, 0] = 8\n",
    "image[3, 1] = 9\n",
    "image[3, 2] = 10\n",
    "\n",
    "print(image)\n"
   ]
  },
  {
   "cell_type": "code",
   "execution_count": 30,
   "metadata": {},
   "outputs": [
    {
     "name": "stdout",
     "output_type": "stream",
     "text": [
      "6.5 3.45205252953\n"
     ]
    }
   ],
   "source": [
    "from scipy.stats import norm\n",
    "\n",
    "mu, sigma = norm.fit(np.array([1,2,3,4,5,6,7,8,9,10,11,12]))\n",
    "print(mu, sigma)"
   ]
  },
  {
   "cell_type": "code",
   "execution_count": null,
   "metadata": {},
   "outputs": [],
   "source": []
  }
 ],
 "metadata": {
  "kernelspec": {
   "display_name": "Python 2",
   "language": "python",
   "name": "python2"
  },
  "language_info": {
   "codemirror_mode": {
    "name": "ipython",
    "version": 2
   },
   "file_extension": ".py",
   "mimetype": "text/x-python",
   "name": "python",
   "nbconvert_exporter": "python",
   "pygments_lexer": "ipython2",
   "version": "2.7.6"
  }
 },
 "nbformat": 4,
 "nbformat_minor": 0
}
