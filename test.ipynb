{
 "cells": [
  {
   "cell_type": "code",
   "execution_count": 4,
   "metadata": {},
   "outputs": [],
   "source": [
    "import DataObj\n",
    "\n",
    "workdir='/home/jammy/PycharmProjects/AutoLens/Data/PrepLens/'\n",
    "\n",
    "image = DataObj.Image()\n",
    "image.load_fits(dir=workdir, file='slacs_1_post.fits', hdu=1, pixel_scale=0.05)\n",
    "image.set_sky_via_image_edges(no_edges=3)"
   ]
  },
  {
   "cell_type": "code",
   "execution_count": null,
   "metadata": {},
   "outputs": [],
   "source": []
  }
 ],
 "metadata": {
  "kernelspec": {
   "display_name": "Python 2",
   "language": "python",
   "name": "python2"
  },
  "language_info": {
   "codemirror_mode": {
    "name": "ipython",
    "version": 2
   },
   "file_extension": ".py",
   "mimetype": "text/x-python",
   "name": "python",
   "nbconvert_exporter": "python",
   "pygments_lexer": "ipython2",
   "version": "2.7.6"
  }
 },
 "nbformat": 4,
 "nbformat_minor": 0
}
